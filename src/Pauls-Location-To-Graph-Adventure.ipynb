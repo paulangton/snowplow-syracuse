{
 "cells": [
  {
   "cell_type": "code",
   "execution_count": 4,
   "metadata": {
    "scrolled": true
   },
   "outputs": [
    {
     "data": {
      "text/html": [
       "<script>requirejs.config({paths: { 'plotly': ['https://cdn.plot.ly/plotly-latest.min']},});if(!window.Plotly) {{require(['plotly'],function(plotly) {window.Plotly=plotly;});}}</script>"
      ],
      "text/vnd.plotly.v1+html": [
       "<script>requirejs.config({paths: { 'plotly': ['https://cdn.plot.ly/plotly-latest.min']},});if(!window.Plotly) {{require(['plotly'],function(plotly) {window.Plotly=plotly;});}}</script>"
      ]
     },
     "metadata": {},
     "output_type": "display_data"
    }
   ],
   "source": [
    "import pandas as pd\n",
    "import numpy as np\n",
    "import os\n",
    "import keras\n",
    "import sklearn\n",
    "import json\n",
    "import requests\n",
    "import itertools\n",
    "import datetime\n",
    "import math\n",
    "\n",
    "import seaborn as sns\n",
    "\n",
    "from scipy import linalg\n",
    "from scipy.spatial.distance import pdist\n",
    "\n",
    "from plotly.offline import download_plotlyjs, init_notebook_mode, plot, iplot\n",
    "init_notebook_mode(connected=True)\n",
    "import plotly.graph_objs as go\n",
    "\n",
    "from sklearn.mixture import GaussianMixture\n",
    "from sklearn.preprocessing import OneHotEncoder\n",
    "\n",
    "from streetaddress import StreetAddressFormatter, StreetAddressParser\n",
    "\n",
    "from keras.models import Sequential\n",
    "from keras.layers import Dense, Dropout, Flatten"
   ]
  },
  {
   "cell_type": "code",
   "execution_count": 5,
   "metadata": {
    "collapsed": true,
    "scrolled": true
   },
   "outputs": [],
   "source": [
    "datadir = '../data/plows/v1/clean/all_plows.csv'"
   ]
  },
  {
   "cell_type": "code",
   "execution_count": 6,
   "metadata": {
    "scrolled": true
   },
   "outputs": [
    {
     "data": {
      "text/html": [
       "<div>\n",
       "<style scoped>\n",
       "    .dataframe tbody tr th:only-of-type {\n",
       "        vertical-align: middle;\n",
       "    }\n",
       "\n",
       "    .dataframe tbody tr th {\n",
       "        vertical-align: top;\n",
       "    }\n",
       "\n",
       "    .dataframe thead th {\n",
       "        text-align: right;\n",
       "    }\n",
       "</style>\n",
       "<table border=\"1\" class=\"dataframe\">\n",
       "  <thead>\n",
       "    <tr style=\"text-align: right;\">\n",
       "      <th></th>\n",
       "      <th>activity_type</th>\n",
       "      <th>address</th>\n",
       "      <th>latitude</th>\n",
       "      <th>longitude</th>\n",
       "      <th>repair_type</th>\n",
       "      <th>strHeading</th>\n",
       "      <th>truck_name</th>\n",
       "      <th>time</th>\n",
       "      <th>date</th>\n",
       "      <th>street</th>\n",
       "      <th>street_num</th>\n",
       "      <th>inplace</th>\n",
       "    </tr>\n",
       "  </thead>\n",
       "  <tbody>\n",
       "    <tr>\n",
       "      <th>0</th>\n",
       "      <td>Stop Moving</td>\n",
       "      <td>306 SENECA TNPK E TO ARSENAL                  ...</td>\n",
       "      <td>42.999824</td>\n",
       "      <td>-76.138107</td>\n",
       "      <td>SNOW &amp; ICE</td>\n",
       "      <td>E</td>\n",
       "      <td>178.0</td>\n",
       "      <td>00:00:07</td>\n",
       "      <td>01/08/2018</td>\n",
       "      <td>SENECA TNPK E TO ARSENAL</td>\n",
       "      <td>306</td>\n",
       "      <td>True</td>\n",
       "    </tr>\n",
       "    <tr>\n",
       "      <th>1</th>\n",
       "      <td></td>\n",
       "      <td>106 ARSENAL DR                                ...</td>\n",
       "      <td>42.999739</td>\n",
       "      <td>-76.138110</td>\n",
       "      <td>SNOW &amp; ICE</td>\n",
       "      <td>E</td>\n",
       "      <td>178.0</td>\n",
       "      <td>00:01:07</td>\n",
       "      <td>01/08/2018</td>\n",
       "      <td>ARSENAL DR</td>\n",
       "      <td>106</td>\n",
       "      <td>True</td>\n",
       "    </tr>\n",
       "    <tr>\n",
       "      <th>2</th>\n",
       "      <td></td>\n",
       "      <td>306 SENECA TNPK E TO ARSENAL                  ...</td>\n",
       "      <td>42.999786</td>\n",
       "      <td>-76.138090</td>\n",
       "      <td>SNOW &amp; ICE</td>\n",
       "      <td>E</td>\n",
       "      <td>178.0</td>\n",
       "      <td>00:02:07</td>\n",
       "      <td>01/08/2018</td>\n",
       "      <td>SENECA TNPK E TO ARSENAL</td>\n",
       "      <td>306</td>\n",
       "      <td>True</td>\n",
       "    </tr>\n",
       "    <tr>\n",
       "      <th>3</th>\n",
       "      <td></td>\n",
       "      <td>121 ARSENAL DR                                ...</td>\n",
       "      <td>42.999810</td>\n",
       "      <td>-76.137820</td>\n",
       "      <td>SNOW &amp; ICE</td>\n",
       "      <td>E</td>\n",
       "      <td>178.0</td>\n",
       "      <td>00:03:07</td>\n",
       "      <td>01/08/2018</td>\n",
       "      <td>ARSENAL DR</td>\n",
       "      <td>121</td>\n",
       "      <td>True</td>\n",
       "    </tr>\n",
       "    <tr>\n",
       "      <th>4</th>\n",
       "      <td>Start Moving</td>\n",
       "      <td>121 ARSENAL DR                                ...</td>\n",
       "      <td>42.999808</td>\n",
       "      <td>-76.137770</td>\n",
       "      <td>SNOW &amp; ICE</td>\n",
       "      <td>E</td>\n",
       "      <td>178.0</td>\n",
       "      <td>00:03:09</td>\n",
       "      <td>01/08/2018</td>\n",
       "      <td>ARSENAL DR</td>\n",
       "      <td>121</td>\n",
       "      <td>True</td>\n",
       "    </tr>\n",
       "  </tbody>\n",
       "</table>\n",
       "</div>"
      ],
      "text/plain": [
       "      activity_type                                            address  \\\n",
       "0       Stop Moving  306 SENECA TNPK E TO ARSENAL                  ...   \n",
       "1                    106 ARSENAL DR                                ...   \n",
       "2                    306 SENECA TNPK E TO ARSENAL                  ...   \n",
       "3                    121 ARSENAL DR                                ...   \n",
       "4      Start Moving  121 ARSENAL DR                                ...   \n",
       "\n",
       "    latitude  longitude repair_type strHeading  truck_name      time  \\\n",
       "0  42.999824 -76.138107  SNOW & ICE          E       178.0  00:00:07   \n",
       "1  42.999739 -76.138110  SNOW & ICE          E       178.0  00:01:07   \n",
       "2  42.999786 -76.138090  SNOW & ICE          E       178.0  00:02:07   \n",
       "3  42.999810 -76.137820  SNOW & ICE          E       178.0  00:03:07   \n",
       "4  42.999808 -76.137770  SNOW & ICE          E       178.0  00:03:09   \n",
       "\n",
       "         date                    street street_num  inplace  \n",
       "0  01/08/2018  SENECA TNPK E TO ARSENAL        306     True  \n",
       "1  01/08/2018                ARSENAL DR        106     True  \n",
       "2  01/08/2018  SENECA TNPK E TO ARSENAL        306     True  \n",
       "3  01/08/2018                ARSENAL DR        121     True  \n",
       "4  01/08/2018                ARSENAL DR        121     True  "
      ]
     },
     "execution_count": 6,
     "metadata": {},
     "output_type": "execute_result"
    }
   ],
   "source": [
    "df = pd.read_csv(datadir)\n",
    "df.head()"
   ]
  },
  {
   "cell_type": "code",
   "execution_count": 8,
   "metadata": {
    "scrolled": true
   },
   "outputs": [],
   "source": [
    "plow_passes_groups = df.groupby(['truck_name', 'street', 'date']).head()\n",
    "plow_passes_groups.groupby(lambda x: 'time')"
   ]
  },
  {
   "cell_type": "code",
   "execution_count": 12,
   "metadata": {
    "scrolled": true
   },
   "outputs": [
    {
     "data": {
      "text/plain": [
       "str"
      ]
     },
     "execution_count": 12,
     "metadata": {},
     "output_type": "execute_result"
    }
   ],
   "source": [
    "type(df['time'][0])\n"
   ]
  },
  {
   "cell_type": "code",
   "execution_count": null,
   "metadata": {
    "collapsed": true,
    "scrolled": true
   },
   "outputs": [],
   "source": []
  }
 ],
 "metadata": {
  "kernelspec": {
   "display_name": "snowplow-syracuse",
   "language": "python",
   "name": "snowplow-syracuse"
  },
  "language_info": {
   "codemirror_mode": {
    "name": "ipython",
    "version": 3
   },
   "file_extension": ".py",
   "mimetype": "text/x-python",
   "name": "python",
   "nbconvert_exporter": "python",
   "pygments_lexer": "ipython3",
   "version": "3.6.4"
  }
 },
 "nbformat": 4,
 "nbformat_minor": 2
}
